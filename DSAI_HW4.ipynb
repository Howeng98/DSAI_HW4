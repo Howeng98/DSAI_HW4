{
  "nbformat": 4,
  "nbformat_minor": 0,
  "metadata": {
    "colab": {
      "name": "DSAI_HW4.ipynb",
      "provenance": [],
      "collapsed_sections": []
    },
    "kernelspec": {
      "name": "python3",
      "display_name": "Python 3"
    },
    "language_info": {
      "name": "python"
    },
    "accelerator": "GPU"
  },
  "cells": [
    {
      "cell_type": "code",
      "metadata": {
        "id": "ThtQmcswiCDD"
      },
      "source": [
        "!nvidia-smi"
      ],
      "execution_count": null,
      "outputs": []
    },
    {
      "cell_type": "code",
      "metadata": {
        "id": "KCRRTBA8qcFl"
      },
      "source": [
        "from google.colab import drive\n",
        "drive.mount('/content/drive')"
      ],
      "execution_count": null,
      "outputs": []
    },
    {
      "cell_type": "code",
      "metadata": {
        "id": "c7DYLZ3EiKOZ"
      },
      "source": [
        "import os\n",
        "import sys\n",
        "import numpy as np\n",
        "import pandas as pd\n",
        "import matplotlib.pyplot as plt\n",
        "from sklearn.metrics import f1_score, recall_score, precision_score, accuracy_score\n",
        "from sklearn.model_selection import train_test_split\n",
        "import xgboost as xgb\n",
        "np.set_printoptions(threshold=sys.maxsize)\n",
        "pd.set_option('display.max_colwidth',1000)"
      ],
      "execution_count": null,
      "outputs": []
    },
    {
      "cell_type": "code",
      "metadata": {
        "id": "CF0phqzIZ-2F"
      },
      "source": [
        "pip freeze > requirements.txt"
      ],
      "execution_count": null,
      "outputs": []
    },
    {
      "cell_type": "code",
      "metadata": {
        "id": "3vt1PrUlXxrZ"
      },
      "source": [
        "main_path = 'drive/MyDrive/Colab Notebooks/dsai_hw4/dataset'\n",
        "\n",
        "orders_DF = pd.read_csv(os.path.join(main_path, 'orders.csv'))  \n",
        "prior_order_DF = pd.read_csv(os.path.join(main_path, 'order_products__prior.csv')) \n",
        "train_order_DF = pd.read_csv(os.path.join(main_path, 'order_products__train.csv')) \n",
        "products_DF = pd.read_csv(os.path.join(main_path, 'products.csv'))"
      ],
      "execution_count": null,
      "outputs": []
    },
    {
      "cell_type": "code",
      "metadata": {
        "id": "nzP7Krj0Cx_Q"
      },
      "source": [
        "orders_prior = orders_DF.loc[np.where(orders_DF['eval_set'] == 'prior')]\n",
        "orders_train = orders_DF.loc[np.where(orders_DF['eval_set'] == 'train')]\n",
        "orders_test  = orders_DF.loc[np.where(orders_DF['eval_set'] == 'test')] \n",
        "print('Prior case:', len(orders_prior))\n",
        "print('Train case:', len(orders_train))\n",
        "print('Test case:', len(orders_test))"
      ],
      "execution_count": null,
      "outputs": []
    },
    {
      "cell_type": "code",
      "metadata": {
        "id": "3HYASMCDdyT2"
      },
      "source": [
        "# in this cell we can prove that test_set is get the all the test's user of its eval_set=prior and evaL_set=test to become test_set\n",
        "previous_order_of_test = []\n",
        "order_of_test = []\n",
        "\n",
        "# get all the previous orders of test_orders, and keep in previous_order_of_test list\n",
        "for i in range(orders_DF['order_id'].count()):\n",
        "  if orders_DF['eval_set'][i] == 'test':\n",
        "    previous_order_id = orders_DF['order_id'][i-1]\n",
        "    test_order_id = orders_DF['order_id'][i]\n",
        "    previous_order_of_test.append([previous_order_id, orders_DF['user_id'][i-1]])\n",
        "    order_of_test.append([test_order_id, orders_DF['user_id'][i]])\n",
        "    \n",
        "previous_order_of_test = np.array(previous_order_of_test)\n",
        "order_of_test = np.array(order_of_test)\n",
        "print(previous_order_of_test.shape)\n",
        "print(order_of_test.shape)\n",
        "previous_order_of_test = pd.DataFrame(previous_order_of_test, columns = ['order_id','user_id'])\n",
        "order_of_test = pd.DataFrame(order_of_test, columns = ['order_id','user_id'])\n",
        "# print('Previous_order_of_test:')\n",
        "# previous_order_of_test\n",
        "# print('Order_of_test:')\n",
        "# order_of_test"
      ],
      "execution_count": null,
      "outputs": []
    },
    {
      "cell_type": "code",
      "metadata": {
        "id": "Kt-4lg_sozn_"
      },
      "source": [
        "test_data = orders_DF.merge(previous_order_of_test, how='inner', on=['order_id','user_id'])\n",
        "# print(test_data.shape)\n",
        "test_data = test_data.merge(prior_order_DF, how='inner', on='order_id')\n",
        "test_data = test_data.merge(products_DF, how='left', on='product_id')\n",
        "# print(test_data.shape)\n",
        "\n",
        "\n",
        "\n",
        "# test_data['aisle_id'].value_counts()\n",
        "# for row in test_data.iterrows():\n",
        "#   if test_data['user_id'][row]\n",
        "\n",
        "test_data = test_data[['user_id','order_id','product_id','add_to_cart_order','order_number','eval_set','order_dow','order_hour_of_day','days_since_prior_order','aisle_id','department_id','reordered']]\n",
        "test_data = test_data.sort_values(by=['user_id','order_id','product_id'])\n",
        "# print(test_data.head(10))\n",
        "test_data = test_data.set_index(['user_id','product_id'])\n",
        "# print(test_data.head(10))\n",
        "# print(test_data.shape)\n",
        "# test_data"
      ],
      "execution_count": null,
      "outputs": []
    },
    {
      "cell_type": "code",
      "metadata": {
        "id": "VxUh9HTi5r2w"
      },
      "source": [
        "# later move up\n",
        "# aisle_count = test_data[test_data['user_id']==4]['aisle_id'].value_counts()\n",
        "# print(aisle_count.sort_values())\n",
        "# aisle_prefer_list.insert([aisle_count[:][:3]])\n",
        "# print(aisle_prefer_list)"
      ],
      "execution_count": null,
      "outputs": []
    },
    {
      "cell_type": "code",
      "metadata": {
        "id": "lfPOK1DoHZtN"
      },
      "source": [
        "train_data = orders_DF.merge(train_order_DF, how='inner', on='order_id')\n",
        "train_data = train_data.merge(products_DF, how='left', on='product_id')\n",
        "train_data = train_data[['user_id','order_id','product_id','add_to_cart_order','order_number','eval_set','order_dow','order_hour_of_day','days_since_prior_order','aisle_id','department_id','reordered']]\n",
        "train_data = train_data.set_index(['user_id','product_id'])\n",
        "# print(train_data.head(10))\n",
        "# print(train_data.shape)\n",
        "# train_data"
      ],
      "execution_count": null,
      "outputs": []
    },
    {
      "cell_type": "code",
      "metadata": {
        "id": "avvCrMEvJF03"
      },
      "source": [
        "train_data = train_data.drop(['eval_set','order_id'], axis=1)\n",
        "X = train_data[['add_to_cart_order','order_number','order_dow','order_hour_of_day','days_since_prior_order','aisle_id','department_id']]\n",
        "Y = train_data['reordered'].astype(np.int)"
      ],
      "execution_count": null,
      "outputs": []
    },
    {
      "cell_type": "code",
      "metadata": {
        "id": "-lvnnnHd0pNj"
      },
      "source": [
        "x_train, x_validate, y_train, y_validate = train_test_split(X,Y , test_size = 0.2, random_state=42)\n",
        "print('x_train:')\n",
        "print(x_train.shape)\n",
        "print('y_train:')\n",
        "print(y_train.shape)\n",
        "print('x_validate:')\n",
        "print(x_validate.shape)\n",
        "print('y_validate:')\n",
        "print(y_validate.shape)"
      ],
      "execution_count": null,
      "outputs": []
    },
    {
      "cell_type": "code",
      "metadata": {
        "id": "gFeUJgxzOT7Q"
      },
      "source": [
        "test_data = test_data.drop(['eval_set','order_id'], axis=1)\n",
        "x_test = test_data[['add_to_cart_order','order_number','order_dow','order_hour_of_day','days_since_prior_order','aisle_id','department_id']]\n",
        "y_test = test_data['reordered'].astype(np.int)"
      ],
      "execution_count": null,
      "outputs": []
    },
    {
      "cell_type": "code",
      "metadata": {
        "id": "RSYSdB0spWmb"
      },
      "source": [
        "parameters = {'eval_metric':'logloss', \n",
        "              'max_depth':'5', \n",
        "              'colsample_bytree':'0.5',\n",
        "              'subsample':'0.80',\n",
        "              'gpu_id':'0',\n",
        "              'tree_method':'gpu_hist'\n",
        "             }\n",
        "\n",
        "print(x_train.shape)\n",
        "print(y_train.shape)\n",
        "XGB = xgb.XGBClassifier(objective='binary:logistic', parameters=parameters, num_boost_round=50)\n",
        "model = XGB.fit(x_train, y_train)\n",
        "print(model)\n",
        "xgb.plot_importance(model)\n",
        "model.get_xgb_params()\n"
      ],
      "execution_count": null,
      "outputs": []
    },
    {
      "cell_type": "code",
      "metadata": {
        "id": "X9wGWayT5MC_"
      },
      "source": [
        "y_pred = model.predict(x_validate)\n",
        "acc = accuracy_score(y_validate, y_pred)\n",
        "fl_score = f1_score(y_validate, y_pred)\n",
        "\n",
        "print('===Validate_set===')\n",
        "print('Acc:',acc)\n",
        "print('F1score:',fl_score)\n",
        "print(y_pred.shape)"
      ],
      "execution_count": null,
      "outputs": []
    },
    {
      "cell_type": "code",
      "metadata": {
        "id": "RXApRAscOLxi"
      },
      "source": [
        "y_pred = model.predict(x_test)\n",
        "acc = accuracy_score(y_test, y_pred)\n",
        "fl_score = f1_score(y_test, y_pred)\n",
        "print('===Test_set===')\n",
        "print('Acc:',acc)\n",
        "print('F1score:',fl_score)\n",
        "print(y_pred.shape)"
      ],
      "execution_count": null,
      "outputs": []
    },
    {
      "cell_type": "code",
      "metadata": {
        "id": "OhIYWvr0PpX5"
      },
      "source": [
        "# prepare submission's dataframe\n",
        "submission_table = orders_DF.loc[orders_DF['eval_set'] == 'test', ['user_id','order_id']]\n",
        "# print(submission_table.head(10))\n",
        "\n",
        "y_pred = pd.DataFrame(y_pred, columns=['reordered'])\n",
        "\n",
        "test_data2 = test_data.drop(['reordered'], axis=1)\n",
        "test_data2 = test_data2.reset_index()\n",
        "test_data2['reordered'] = y_pred\n",
        "# print(test_data2.head(10))\n",
        "# test_data2 = test_data2.set_index(['user_id','product_id'])\n",
        "\n",
        "\n",
        "submission_table = submission_table.merge(test_data2, how='left', on='user_id')\n",
        "# print(submission_table)\n",
        "submission_table = submission_table[['order_id','product_id','reordered']]\n",
        "# print(submission_table)\n",
        "\n",
        "output_result = dict()\n",
        "for row in submission_table.itertuples():\n",
        "  if row.reordered == 1:\n",
        "    try:\n",
        "      output_result[row.order_id] += ' ' + str(row.product_id)\n",
        "    except:\n",
        "      output_result[row.order_id] = str(row.product_id)\n",
        "\n",
        "for order in submission_table.order_id:\n",
        "  if order not in output_result:\n",
        "    output_result[order] = 'None'\n",
        "\n",
        "submission = pd.DataFrame.from_dict(output_result, orient='index')\n",
        "submission.reset_index(inplace=True)\n",
        "submission.columns = ['order_id','products']\n",
        "# print(submission.head(50))\n",
        "# submission\n",
        "submission.to_csv('submission.csv',index=False)"
      ],
      "execution_count": null,
      "outputs": []
    }
  ]
}