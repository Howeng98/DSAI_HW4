{
  "nbformat": 4,
  "nbformat_minor": 0,
  "metadata": {
    "colab": {
      "name": "DSAI_HW4.ipynb",
      "provenance": [],
      "collapsed_sections": []
    },
    "kernelspec": {
      "name": "python3",
      "display_name": "Python 3"
    },
    "language_info": {
      "name": "python"
    },
    "accelerator": "GPU"
  },
  "cells": [
    {
      "cell_type": "code",
      "metadata": {
        "id": "ThtQmcswiCDD",
        "colab": {
          "base_uri": "https://localhost:8080/"
        },
        "outputId": "c8eb3692-4f89-41a8-8e35-8266801b55d5"
      },
      "source": [
        "!nvidia-smi"
      ],
      "execution_count": 1,
      "outputs": [
        {
          "output_type": "stream",
          "text": [
            "Mon Jun 21 08:44:42 2021       \n",
            "+-----------------------------------------------------------------------------+\n",
            "| NVIDIA-SMI 465.27       Driver Version: 460.32.03    CUDA Version: 11.2     |\n",
            "|-------------------------------+----------------------+----------------------+\n",
            "| GPU  Name        Persistence-M| Bus-Id        Disp.A | Volatile Uncorr. ECC |\n",
            "| Fan  Temp  Perf  Pwr:Usage/Cap|         Memory-Usage | GPU-Util  Compute M. |\n",
            "|                               |                      |               MIG M. |\n",
            "|===============================+======================+======================|\n",
            "|   0  Tesla K80           Off  | 00000000:00:04.0 Off |                    0 |\n",
            "| N/A   34C    P8    27W / 149W |      0MiB / 11441MiB |      0%      Default |\n",
            "|                               |                      |                  N/A |\n",
            "+-------------------------------+----------------------+----------------------+\n",
            "                                                                               \n",
            "+-----------------------------------------------------------------------------+\n",
            "| Processes:                                                                  |\n",
            "|  GPU   GI   CI        PID   Type   Process name                  GPU Memory |\n",
            "|        ID   ID                                                   Usage      |\n",
            "|=============================================================================|\n",
            "|  No running processes found                                                 |\n",
            "+-----------------------------------------------------------------------------+\n"
          ],
          "name": "stdout"
        }
      ]
    },
    {
      "cell_type": "code",
      "metadata": {
        "id": "KCRRTBA8qcFl",
        "colab": {
          "base_uri": "https://localhost:8080/"
        },
        "outputId": "3bed2c68-8a27-4a7d-e3b5-4ac7c72cf99d"
      },
      "source": [
        "from google.colab import drive\n",
        "drive.mount('/content/drive')"
      ],
      "execution_count": 4,
      "outputs": [
        {
          "output_type": "stream",
          "text": [
            "Mounted at /content/drive\n"
          ],
          "name": "stdout"
        }
      ]
    },
    {
      "cell_type": "code",
      "metadata": {
        "id": "c7DYLZ3EiKOZ"
      },
      "source": [
        "import os\n",
        "import sys\n",
        "import numpy as np\n",
        "import pandas as pd\n",
        "import matplotlib.pyplot as plt\n",
        "import tensorflow as tf\n",
        "from keras.models import Sequential\n",
        "from keras.layers import LSTM, Dense, Dropout, Flatten, Conv2D, MaxPool2D, BatchNormalization, Activation\n",
        "from keras.optimizers import Adam, SGD\n",
        "from sklearn.preprocessing import MinMaxScaler\n",
        "from statistics import mean\n",
        "from keras import backend as K\n",
        "from sklearn.metrics import f1_score, recall_score, precision_score, accuracy_score\n",
        "from keras.callbacks import Callback\n",
        "from sklearn.model_selection import train_test_split\n",
        "from tqdm import tqdm \n",
        "from keras.utils import np_utils\n",
        "import xgboost as xgb\n",
        "import gc\n",
        "np.set_printoptions(threshold=sys.maxsize)\n",
        "pd.set_option('display.max_colwidth',1000)"
      ],
      "execution_count": 5,
      "outputs": []
    },
    {
      "cell_type": "code",
      "metadata": {
        "id": "3vt1PrUlXxrZ"
      },
      "source": [
        "main_path = 'drive/MyDrive/Colab Notebooks/dsai_hw4/dataset'\n",
        "\n",
        "orders_DF = pd.read_csv(os.path.join(main_path, 'orders.csv'))  \n",
        "prior_order_DF = pd.read_csv(os.path.join(main_path, 'order_products__prior.csv')) \n",
        "train_order_DF = pd.read_csv(os.path.join(main_path, 'order_products__train.csv')) \n",
        "products_DF = pd.read_csv(os.path.join(main_path, 'products.csv'))"
      ],
      "execution_count": 6,
      "outputs": []
    },
    {
      "cell_type": "code",
      "metadata": {
        "colab": {
          "base_uri": "https://localhost:8080/"
        },
        "id": "nzP7Krj0Cx_Q",
        "outputId": "7d8fa53a-f2bb-46b8-8095-593ee5aff481"
      },
      "source": [
        "orders_prior = orders_DF.loc[np.where(orders_DF['eval_set'] == 'prior')]\n",
        "orders_train = orders_DF.loc[np.where(orders_DF['eval_set'] == 'train')]\n",
        "orders_test  = orders_DF.loc[np.where(orders_DF['eval_set'] == 'test')] \n",
        "print('Prior case:', len(orders_prior))\n",
        "print('Train case:', len(orders_train))\n",
        "print('Test case:', len(orders_test))"
      ],
      "execution_count": 7,
      "outputs": [
        {
          "output_type": "stream",
          "text": [
            "Prior case: 3214874\n",
            "Train case: 131209\n",
            "Test case: 75000\n"
          ],
          "name": "stdout"
        }
      ]
    },
    {
      "cell_type": "code",
      "metadata": {
        "colab": {
          "base_uri": "https://localhost:8080/"
        },
        "id": "3HYASMCDdyT2",
        "outputId": "8e938e97-f00f-4a57-b62d-d6677b559a5f"
      },
      "source": [
        "# in this cell we can prove that test_set is get the all the test's user of its eval_set=prior and evaL_set=test to become test_set\n",
        "previous_order_of_test = []\n",
        "order_of_test = []\n",
        "\n",
        "# get all the previous orders of test_orders, and keep in previous_order_of_test list\n",
        "for i in range(orders_DF['order_id'].count()):\n",
        "  if orders_DF['eval_set'][i] == 'test':\n",
        "    previous_order_id = orders_DF['order_id'][i-1]\n",
        "    test_order_id = orders_DF['order_id'][i]\n",
        "    previous_order_of_test.append([previous_order_id, orders_DF['user_id'][i-1]])\n",
        "    order_of_test.append([test_order_id, orders_DF['user_id'][i]])\n",
        "    \n",
        "previous_order_of_test = np.array(previous_order_of_test)\n",
        "order_of_test = np.array(order_of_test)\n",
        "print(previous_order_of_test.shape)\n",
        "print(order_of_test.shape)\n",
        "previous_order_of_test = pd.DataFrame(previous_order_of_test, columns = ['order_id','user_id'])\n",
        "order_of_test = pd.DataFrame(order_of_test, columns = ['order_id','user_id'])\n",
        "print(previous_order_of_test.head(10))\n",
        "print(order_of_test.head(10))"
      ],
      "execution_count": 8,
      "outputs": [
        {
          "output_type": "stream",
          "text": [
            "(75000, 2)\n",
            "(75000, 2)\n",
            "   order_id  user_id\n",
            "0   1402502        3\n",
            "1   2557754        4\n",
            "2    998866        6\n",
            "3   1468214       11\n",
            "4    221248       12\n",
            "5    487368       15\n",
            "6   2000615       16\n",
            "7     86918       19\n",
            "8   2741696       20\n",
            "9   2647850       22\n",
            "   order_id  user_id\n",
            "0   2774568        3\n",
            "1    329954        4\n",
            "2   1528013        6\n",
            "3   1376945       11\n",
            "4   1356845       12\n",
            "5   2161313       15\n",
            "6   1416320       16\n",
            "7   1735923       19\n",
            "8   1980631       20\n",
            "9    139655       22\n"
          ],
          "name": "stdout"
        }
      ]
    },
    {
      "cell_type": "code",
      "metadata": {
        "colab": {
          "base_uri": "https://localhost:8080/"
        },
        "id": "Kt-4lg_sozn_",
        "outputId": "e2497b1d-d514-469e-fde2-e3efe78be4dd"
      },
      "source": [
        "test_data = orders_DF.merge(previous_order_of_test, how='inner', on=['order_id','user_id'])\n",
        "# print(test_data.shape)\n",
        "test_data = test_data.merge(prior_order_DF, how='inner', on='order_id')\n",
        "test_data = test_data.merge(products_DF, how='left', on='product_id')\n",
        "# print(test_data.shape)\n",
        "\n",
        "test_data = test_data[['user_id','order_id','product_id','add_to_cart_order','order_number','eval_set','order_dow','order_hour_of_day','days_since_prior_order','aisle_id','department_id','reordered']]\n",
        "test_data = test_data.sort_values(by=['user_id','order_id','product_id'])\n",
        "# print(test_data.head(10))\n",
        "test_data = test_data.set_index(['user_id','product_id'])\n",
        "print(test_data.head(10))\n",
        "print(test_data.shape)"
      ],
      "execution_count": 9,
      "outputs": [
        {
          "output_type": "stream",
          "text": [
            "                    order_id  add_to_cart_order  ...  department_id reordered\n",
            "user_id product_id                               ...                         \n",
            "3       18599        1402502                  2  ...              9         1\n",
            "        21903        1402502                  4  ...              4         1\n",
            "        23650        1402502                  3  ...              7         1\n",
            "        24810        1402502                  6  ...             19         1\n",
            "        39190        1402502                  1  ...             16         1\n",
            "        47766        1402502                  5  ...              4         1\n",
            "4       21573        2557754                  3  ...             20         0\n",
            "        25623        2557754                  2  ...             20         0\n",
            "        26576        2557754                  1  ...             19         0\n",
            "6       8424          998866                  3  ...              4         0\n",
            "\n",
            "[10 rows x 10 columns]\n",
            "(780800, 10)\n"
          ],
          "name": "stdout"
        }
      ]
    },
    {
      "cell_type": "code",
      "metadata": {
        "colab": {
          "base_uri": "https://localhost:8080/"
        },
        "id": "lfPOK1DoHZtN",
        "outputId": "a9bd283e-d537-4ec0-934a-54dc100b45c4"
      },
      "source": [
        "train_data = orders_DF.merge(train_order_DF, how='inner', on='order_id')\n",
        "train_data = train_data.merge(products_DF, how='left', on='product_id')\n",
        "train_data = train_data[['user_id','order_id','product_id','add_to_cart_order','order_number','eval_set','order_dow','order_hour_of_day','days_since_prior_order','aisle_id','department_id','reordered']]\n",
        "train_data = train_data.set_index(['user_id','product_id'])\n",
        "print(train_data.head(10))\n",
        "print(train_data.shape)\n"
      ],
      "execution_count": 10,
      "outputs": [
        {
          "output_type": "stream",
          "text": [
            "                    order_id  add_to_cart_order  ...  department_id reordered\n",
            "user_id product_id                               ...                         \n",
            "1       196          1187899                  1  ...              7         1\n",
            "        25133        1187899                  2  ...             16         1\n",
            "        38928        1187899                  3  ...             16         1\n",
            "        26405        1187899                  4  ...             17         1\n",
            "        39657        1187899                  5  ...             19         1\n",
            "        10258        1187899                  6  ...             19         1\n",
            "        13032        1187899                  7  ...             14         1\n",
            "        26088        1187899                  8  ...             19         1\n",
            "        27845        1187899                  9  ...             16         0\n",
            "        49235        1187899                 10  ...             16         1\n",
            "\n",
            "[10 rows x 10 columns]\n",
            "(1384617, 10)\n"
          ],
          "name": "stdout"
        }
      ]
    },
    {
      "cell_type": "code",
      "metadata": {
        "id": "avvCrMEvJF03"
      },
      "source": [
        "train_data = train_data.drop(['eval_set','order_id'], axis=1)\n",
        "X = train_data[['add_to_cart_order','order_number','order_dow','order_hour_of_day','days_since_prior_order','aisle_id','department_id']]\n",
        "Y = train_data['reordered'].astype(np.int)"
      ],
      "execution_count": 11,
      "outputs": []
    },
    {
      "cell_type": "code",
      "metadata": {
        "id": "-lvnnnHd0pNj",
        "colab": {
          "base_uri": "https://localhost:8080/"
        },
        "outputId": "a926dfc7-5ba7-493f-9e8f-ef64d65090bc"
      },
      "source": [
        "x_train, x_validate, y_train, y_validate = train_test_split(X,Y , test_size = 0.2, random_state=42)\n",
        "print(x_train.shape)\n",
        "print(y_train.shape)\n",
        "print(x_validate.shape)\n",
        "print(y_validate.shape)"
      ],
      "execution_count": 12,
      "outputs": [
        {
          "output_type": "stream",
          "text": [
            "(1107693, 7)\n",
            "(1107693,)\n",
            "(276924, 7)\n",
            "(276924,)\n"
          ],
          "name": "stdout"
        }
      ]
    },
    {
      "cell_type": "code",
      "metadata": {
        "id": "gFeUJgxzOT7Q"
      },
      "source": [
        "test_data = test_data.drop(['eval_set','order_id'], axis=1)\n",
        "x_test = test_data[['add_to_cart_order','order_number','order_dow','order_hour_of_day','days_since_prior_order','aisle_id','department_id']]\n",
        "y_test = test_data['reordered'].astype(np.int)"
      ],
      "execution_count": 13,
      "outputs": []
    },
    {
      "cell_type": "code",
      "metadata": {
        "id": "RSYSdB0spWmb",
        "colab": {
          "base_uri": "https://localhost:8080/",
          "height": 1000
        },
        "outputId": "c5d073f2-2bf2-4fc3-b808-16f050184887"
      },
      "source": [
        "parameters = {'eval_metric':'logloss', \n",
        "              'max_depth':'5', \n",
        "              'colsample_bytree':'0.5',\n",
        "              'subsample':'0.75',\n",
        "              'gpu_id':'0',\n",
        "              'tree_method':'gpu_hist'\n",
        "             }\n",
        "\n",
        "print(x_train.shape)\n",
        "print(y_train.shape)\n",
        "XGB = xgb.XGBClassifier(objective='binary:logistic', parameters=parameters, num_boost_round=10)\n",
        "model = XGB.fit(x_train, y_train)\n",
        "print(model)\n",
        "xgb.plot_importance(model)\n",
        "model.get_xgb_params()\n"
      ],
      "execution_count": 14,
      "outputs": [
        {
          "output_type": "stream",
          "text": [
            "(1107693, 7)\n",
            "(1107693,)\n",
            "XGBClassifier(base_score=0.5, booster='gbtree', colsample_bylevel=1,\n",
            "              colsample_bynode=1, colsample_bytree=1, gamma=0,\n",
            "              learning_rate=0.1, max_delta_step=0, max_depth=3,\n",
            "              min_child_weight=1, missing=None, n_estimators=100, n_jobs=1,\n",
            "              nthread=None, num_boost_round=10, objective='binary:logistic',\n",
            "              parameters={'colsample_bytree': '0.5', 'eval_metric': 'logloss',\n",
            "                          'gpu_id': '0', 'max_depth': '5', 'subsample': '0.75',\n",
            "                          'tree_method': 'gpu_hist'},\n",
            "              random_state=0, reg_alpha=0, reg_lambda=1, scale_pos_weight=1,\n",
            "              seed=None, silent=None, subsample=1, verbosity=1)\n"
          ],
          "name": "stdout"
        },
        {
          "output_type": "execute_result",
          "data": {
            "text/plain": [
              "{'base_score': 0.5,\n",
              " 'booster': 'gbtree',\n",
              " 'colsample_bylevel': 1,\n",
              " 'colsample_bynode': 1,\n",
              " 'colsample_bytree': 1,\n",
              " 'gamma': 0,\n",
              " 'learning_rate': 0.1,\n",
              " 'max_delta_step': 0,\n",
              " 'max_depth': 3,\n",
              " 'min_child_weight': 1,\n",
              " 'missing': None,\n",
              " 'n_estimators': 100,\n",
              " 'nthread': 1,\n",
              " 'num_boost_round': 10,\n",
              " 'objective': 'binary:logistic',\n",
              " 'parameters': {'colsample_bytree': '0.5',\n",
              "  'eval_metric': 'logloss',\n",
              "  'gpu_id': '0',\n",
              "  'max_depth': '5',\n",
              "  'subsample': '0.75',\n",
              "  'tree_method': 'gpu_hist'},\n",
              " 'reg_alpha': 0,\n",
              " 'reg_lambda': 1,\n",
              " 'scale_pos_weight': 1,\n",
              " 'seed': 0,\n",
              " 'subsample': 1,\n",
              " 'verbosity': 1}"
            ]
          },
          "metadata": {
            "tags": []
          },
          "execution_count": 14
        },
        {
          "output_type": "display_data",
          "data": {
            "image/png": "[encoded data removed]",
            "text/plain": [
              "<Figure size 432x288 with 1 Axes>"
            ]
          },
          "metadata": {
            "tags": [],
            "needs_background": "light"
          }
        }
      ]
    },
    {
      "cell_type": "code",
      "metadata": {
        "id": "X9wGWayT5MC_",
        "colab": {
          "base_uri": "https://localhost:8080/"
        },
        "outputId": "17bedac6-c469-4977-b5ff-b36e0ccae3f9"
      },
      "source": [
        "y_pred = model.predict(x_validate)\n",
        "acc = accuracy_score(y_validate, y_pred)\n",
        "fl_score = f1_score(y_validate, y_pred)\n",
        "\n",
        "print('===Validate_set===')\n",
        "print('Acc:',acc)\n",
        "print('F1score:',fl_score)\n",
        "print(y_pred.shape)"
      ],
      "execution_count": 15,
      "outputs": [
        {
          "output_type": "stream",
          "text": [
            "===Validate_set===\n",
            "Acc: 0.6772580202510436\n",
            "F1score: 0.752762832127692\n",
            "(276924,)\n"
          ],
          "name": "stdout"
        }
      ]
    },
    {
      "cell_type": "code",
      "metadata": {
        "colab": {
          "base_uri": "https://localhost:8080/"
        },
        "id": "RXApRAscOLxi",
        "outputId": "4389e91a-1eb4-4575-819b-a34d05a4c930"
      },
      "source": [
        "y_pred = model.predict(x_test)\n",
        "acc = accuracy_score(y_test, y_pred)\n",
        "fl_score = f1_score(y_test, y_pred)\n",
        "print('===Test_set===')\n",
        "print('Acc:',acc)\n",
        "print('F1score:',fl_score)\n",
        "print(y_pred.shape)"
      ],
      "execution_count": 16,
      "outputs": [
        {
          "output_type": "stream",
          "text": [
            "===Test_set===\n",
            "Acc: 0.679264856557377\n",
            "F1score: 0.7469023507771916\n",
            "(780800,)\n"
          ],
          "name": "stdout"
        }
      ]
    },
    {
      "cell_type": "code",
      "metadata": {
        "colab": {
          "base_uri": "https://localhost:8080/"
        },
        "id": "OhIYWvr0PpX5",
        "outputId": "3dbddfa2-c033-4165-99bc-ec6c5556894a"
      },
      "source": [
        "# prepare submission's dataframe\n",
        "submission_table = orders_DF.loc[orders_DF['eval_set'] == 'test', ['user_id','order_id']]\n",
        "print(submission_table.head(10))\n",
        "\n",
        "y_pred = pd.DataFrame(y_pred, columns=['reordered'])\n",
        "\n",
        "test_data2 = test_data.drop(['reordered'], axis=1)\n",
        "test_data2 = test_data2.reset_index()\n",
        "test_data2['reordered'] = y_pred\n",
        "print(test_data2.head(10))\n",
        "# test_data2 = test_data2.set_index(['user_id','product_id'])\n",
        "\n",
        "\n",
        "submission_table = submission_table.merge(test_data2, how='left', on='user_id')\n",
        "print(submission_table)\n",
        "submission_table = submission_table[['order_id','product_id','reordered']]\n",
        "print(submission_table)\n",
        "\n",
        "output_result = dict()\n",
        "for row in submission_table.itertuples():\n",
        "  if row.reordered == 1:\n",
        "    try:\n",
        "      output_result[row.order_id] += ' ' + str(row.product_id)\n",
        "    except:\n",
        "      output_result[row.order_id] = str(row.product_id)\n",
        "\n",
        "for order in submission_table.order_id:\n",
        "  if order not in output_result:\n",
        "    output_result[order] = 'None'\n",
        "\n",
        "submission = pd.DataFrame.from_dict(output_result, orient='index')\n",
        "submission.reset_index(inplace=True)\n",
        "submission.columns = ['order_id','products']\n",
        "# print(submission.head(50))\n",
        "submission\n",
        "submission.to_csv('submission.csv',index=False)"
      ],
      "execution_count": 17,
      "outputs": [
        {
          "output_type": "stream",
          "text": [
            "     user_id  order_id\n",
            "38         3   2774568\n",
            "44         4    329954\n",
            "53         6   1528013\n",
            "96        11   1376945\n",
            "102       12   1356845\n",
            "152       15   2161313\n",
            "159       16   1416320\n",
            "217       19   1735923\n",
            "222       20   1980631\n",
            "272       22    139655\n",
            "   user_id  product_id  add_to_cart_order  ...  aisle_id  department_id  reordered\n",
            "0        3       18599                  2  ...         4              9          1\n",
            "1        3       21903                  4  ...       123              4          1\n",
            "2        3       23650                  3  ...       115              7          1\n",
            "3        3       24810                  6  ...        78             19          1\n",
            "4        3       39190                  1  ...        91             16          1\n",
            "5        3       47766                  5  ...        24              4          1\n",
            "6        4       21573                  3  ...        67             20          1\n",
            "7        4       25623                  2  ...        67             20          1\n",
            "8        4       26576                  1  ...       107             19          1\n",
            "9        6        8424                  3  ...        83              4          1\n",
            "\n",
            "[10 rows x 10 columns]\n",
            "        user_id  order_id  product_id  ...  aisle_id  department_id  reordered\n",
            "0             3   2774568       18599  ...         4              9          1\n",
            "1             3   2774568       21903  ...       123              4          1\n",
            "2             3   2774568       23650  ...       115              7          1\n",
            "3             3   2774568       24810  ...        78             19          1\n",
            "4             3   2774568       39190  ...        91             16          1\n",
            "...         ...       ...         ...  ...       ...            ...        ...\n",
            "780795   206208    803273       35688  ...       121             14          1\n",
            "780796   206208    803273       43961  ...       123              4          1\n",
            "780797   206208    803273       44419  ...        83              4          1\n",
            "780798   206208    803273       44910  ...       123              4          1\n",
            "780799   206208    803273       45007  ...        83              4          1\n",
            "\n",
            "[780800 rows x 11 columns]\n",
            "        order_id  product_id  reordered\n",
            "0        2774568       18599          1\n",
            "1        2774568       21903          1\n",
            "2        2774568       23650          1\n",
            "3        2774568       24810          1\n",
            "4        2774568       39190          1\n",
            "...          ...         ...        ...\n",
            "780795    803273       35688          1\n",
            "780796    803273       43961          1\n",
            "780797    803273       44419          1\n",
            "780798    803273       44910          1\n",
            "780799    803273       45007          1\n",
            "\n",
            "[780800 rows x 3 columns]\n"
          ],
          "name": "stdout"
        }
      ]
    }
  ]
}