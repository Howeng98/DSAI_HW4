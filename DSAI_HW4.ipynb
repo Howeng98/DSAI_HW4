{
  "nbformat": 4,
  "nbformat_minor": 0,
  "metadata": {
    "colab": {
      "name": "DSAI_HW4.ipynb",
      "provenance": [],
      "collapsed_sections": []
    },
    "kernelspec": {
      "name": "python3",
      "display_name": "Python 3"
    },
    "language_info": {
      "name": "python"
    }
  },
  "cells": [
    {
      "cell_type": "code",
      "metadata": {
        "id": "ThtQmcswiCDD",
        "colab": {
          "base_uri": "https://localhost:8080/"
        },
        "outputId": "94ed3778-0b12-4cc9-8be9-731c7bf9cfaa"
      },
      "source": [
        "!nvidia-smi"
      ],
      "execution_count": 1,
      "outputs": [
        {
          "output_type": "stream",
          "text": [
            "NVIDIA-SMI has failed because it couldn't communicate with the NVIDIA driver. Make sure that the latest NVIDIA driver is installed and running.\n",
            "\n"
          ],
          "name": "stdout"
        }
      ]
    },
    {
      "cell_type": "code",
      "metadata": {
        "id": "KCRRTBA8qcFl",
        "colab": {
          "base_uri": "https://localhost:8080/"
        },
        "outputId": "97d61413-42f3-457f-8ece-6bfa36513b29"
      },
      "source": [
        "from google.colab import drive\n",
        "drive.mount('/content/drive')"
      ],
      "execution_count": 2,
      "outputs": [
        {
          "output_type": "stream",
          "text": [
            "Mounted at /content/drive\n"
          ],
          "name": "stdout"
        }
      ]
    },
    {
      "cell_type": "markdown",
      "metadata": {
        "id": "iwi9mYTsvAIC"
      },
      "source": [
        "\n",
        "\n",
        "1.   prepare X, and Y\n",
        "2.   seperate it into train and test set\n",
        "3.   setup xgboost parameters\n",
        "4.   fit data\n",
        "5.   predict\n",
        "\n"
      ]
    },
    {
      "cell_type": "code",
      "metadata": {
        "id": "c7DYLZ3EiKOZ"
      },
      "source": [
        "import os\n",
        "import sys\n",
        "import numpy as np\n",
        "import pandas as pd\n",
        "import matplotlib.pyplot as plt\n",
        "import tensorflow as tf\n",
        "from keras.models import Sequential\n",
        "from keras.layers import LSTM, Dense, Dropout, Flatten, Conv2D, MaxPool2D, BatchNormalization, Activation\n",
        "from keras.optimizers import Adam, SGD\n",
        "from sklearn.preprocessing import MinMaxScaler\n",
        "from statistics import mean\n",
        "from keras import backend as K\n",
        "from sklearn.metrics import f1_score, recall_score, precision_score, accuracy_score\n",
        "from keras.callbacks import Callback\n",
        "from sklearn.model_selection import train_test_split\n",
        "from tqdm import tqdm \n",
        "from keras.utils import np_utils\n",
        "import xgboost as xgb\n",
        "import gc\n",
        "np.set_printoptions(threshold=sys.maxsize)\n",
        "pd.set_option('display.max_colwidth',1000)"
      ],
      "execution_count": 2,
      "outputs": []
    },
    {
      "cell_type": "code",
      "metadata": {
        "id": "3vt1PrUlXxrZ"
      },
      "source": [
        "main_path = 'drive/MyDrive/Colab Notebooks/dsai_hw4/dataset'\n",
        "\n",
        "orders_DF = pd.read_csv(os.path.join(main_path, 'orders.csv'))  \n",
        "prior_order_DF = pd.read_csv(os.path.join(main_path, 'order_products__prior.csv')) \n",
        "train_order_DF = pd.read_csv(os.path.join(main_path, 'order_products__train.csv')) \n",
        "products_DF = pd.read_csv(os.path.join(main_path, 'products.csv'))"
      ],
      "execution_count": 20,
      "outputs": []
    },
    {
      "cell_type": "code",
      "metadata": {
        "colab": {
          "base_uri": "https://localhost:8080/"
        },
        "id": "nzP7Krj0Cx_Q",
        "outputId": "ba171fda-1def-4fc8-bfcc-0fda69a6d518"
      },
      "source": [
        "orders_prior = orders_DF.loc[np.where(orders_DF['eval_set'] == 'prior')]\n",
        "orders_train = orders_DF.loc[np.where(orders_DF['eval_set'] == 'train')]\n",
        "orders_test  = orders_DF.loc[np.where(orders_DF['eval_set'] == 'test')] \n",
        "print('Prior case:', len(orders_prior))\n",
        "print('Train case:', len(orders_train))\n",
        "print('Test case:', len(orders_test))"
      ],
      "execution_count": 21,
      "outputs": [
        {
          "output_type": "stream",
          "text": [
            "Prior case: 3214874\n",
            "Train case: 131209\n",
            "Test case: 75000\n"
          ],
          "name": "stdout"
        }
      ]
    },
    {
      "cell_type": "code",
      "metadata": {
        "colab": {
          "base_uri": "https://localhost:8080/"
        },
        "id": "3HYASMCDdyT2",
        "outputId": "eb759078-9022-4985-be21-bca312fdede0"
      },
      "source": [
        "# in this cell we can prove that test_set is get the all the test's user of its eval_set=prior and evaL_set=test to become test_set\n",
        "previous_order_of_test = []\n",
        "order_of_test = []\n",
        "\n",
        "# get all the previous orders of test_orders, and keep in previous_order_of_test list\n",
        "for i in range(orders_DF['order_id'].count()):\n",
        "  if orders_DF['eval_set'][i] == 'test':\n",
        "    previous_order_id = orders_DF['order_id'][i-1]\n",
        "    test_order_id = orders_DF['order_id'][i]\n",
        "    previous_order_of_test.append([previous_order_id, orders_DF['user_id'][i-1]])\n",
        "    order_of_test.append([test_order_id, orders_DF['user_id'][i]])\n",
        "    \n",
        "previous_order_of_test = np.array(previous_order_of_test)\n",
        "order_of_test = np.array(order_of_test)\n",
        "print(previous_order_of_test.shape)\n",
        "print(order_of_test.shape)\n",
        "previous_order_of_test = pd.DataFrame(previous_order_of_test, columns = ['order_id','user_id'])\n",
        "order_of_test = pd.DataFrame(order_of_test, columns = ['order_id','user_id'])\n",
        "print(previous_order_of_test.head(10))\n",
        "print(order_of_test.head(10))"
      ],
      "execution_count": 5,
      "outputs": [
        {
          "output_type": "stream",
          "text": [
            "(75000, 2)\n",
            "(75000, 2)\n",
            "   order_id  user_id\n",
            "0   1402502        3\n",
            "1   2557754        4\n",
            "2    998866        6\n",
            "3   1468214       11\n",
            "4    221248       12\n",
            "5    487368       15\n",
            "6   2000615       16\n",
            "7     86918       19\n",
            "8   2741696       20\n",
            "9   2647850       22\n",
            "   order_id  user_id\n",
            "0   2774568        3\n",
            "1    329954        4\n",
            "2   1528013        6\n",
            "3   1376945       11\n",
            "4   1356845       12\n",
            "5   2161313       15\n",
            "6   1416320       16\n",
            "7   1735923       19\n",
            "8   1980631       20\n",
            "9    139655       22\n"
          ],
          "name": "stdout"
        }
      ]
    },
    {
      "cell_type": "code",
      "metadata": {
        "colab": {
          "base_uri": "https://localhost:8080/"
        },
        "id": "Kt-4lg_sozn_",
        "outputId": "ff1c7190-912c-433e-ce41-6657d49e95c9"
      },
      "source": [
        "test_data = orders_DF.merge(previous_order_of_test, how='inner', on=['order_id','user_id'])\n",
        "# print(test_data.shape)\n",
        "test_data = test_data.merge(prior_order_DF, how='inner', on='order_id')\n",
        "# print(test_data.shape)\n",
        "\n",
        "test_data = test_data[['user_id','order_id','product_id','add_to_cart_order','order_number','eval_set','order_dow','order_hour_of_day','days_since_prior_order','reordered']]\n",
        "test_data = test_data.sort_values(by=['user_id','order_id','product_id'])\n",
        "# print(test_data.head(10))\n",
        "test_data = test_data.set_index(['user_id','product_id'])\n",
        "print(test_data.head(10))\n",
        "print(test_data.shape)"
      ],
      "execution_count": 22,
      "outputs": [
        {
          "output_type": "stream",
          "text": [
            "                    order_id  ...  reordered\n",
            "user_id product_id            ...           \n",
            "3       18599        1402502  ...          1\n",
            "        21903        1402502  ...          1\n",
            "        23650        1402502  ...          1\n",
            "        24810        1402502  ...          1\n",
            "        39190        1402502  ...          1\n",
            "        47766        1402502  ...          1\n",
            "4       21573        2557754  ...          0\n",
            "        25623        2557754  ...          0\n",
            "        26576        2557754  ...          0\n",
            "6       8424          998866  ...          0\n",
            "\n",
            "[10 rows x 8 columns]\n",
            "(780800, 8)\n"
          ],
          "name": "stdout"
        }
      ]
    },
    {
      "cell_type": "code",
      "metadata": {
        "colab": {
          "base_uri": "https://localhost:8080/"
        },
        "id": "lfPOK1DoHZtN",
        "outputId": "80a84f68-6261-49af-de15-9ce904183703"
      },
      "source": [
        "train_data = orders_DF.merge(train_order_DF, how='inner', on='order_id')\n",
        "train_data = train_data[['user_id','order_id','product_id','add_to_cart_order','order_number','eval_set','order_dow','order_hour_of_day','days_since_prior_order','reordered']]\n",
        "train_data = train_data.set_index(['user_id','product_id'])\n",
        "print(train_data.head(10))\n",
        "print(train_data.columns)\n",
        "print(train_data.shape)\n"
      ],
      "execution_count": 7,
      "outputs": [
        {
          "output_type": "stream",
          "text": [
            "                    order_id  ...  reordered\n",
            "user_id product_id            ...           \n",
            "1       196          1187899  ...          1\n",
            "        25133        1187899  ...          1\n",
            "        38928        1187899  ...          1\n",
            "        26405        1187899  ...          1\n",
            "        39657        1187899  ...          1\n",
            "        10258        1187899  ...          1\n",
            "        13032        1187899  ...          1\n",
            "        26088        1187899  ...          1\n",
            "        27845        1187899  ...          0\n",
            "        49235        1187899  ...          1\n",
            "\n",
            "[10 rows x 8 columns]\n",
            "Index(['order_id', 'add_to_cart_order', 'order_number', 'eval_set',\n",
            "       'order_dow', 'order_hour_of_day', 'days_since_prior_order',\n",
            "       'reordered'],\n",
            "      dtype='object')\n",
            "(1384617, 8)\n"
          ],
          "name": "stdout"
        }
      ]
    },
    {
      "cell_type": "code",
      "metadata": {
        "colab": {
          "base_uri": "https://localhost:8080/"
        },
        "id": "avvCrMEvJF03",
        "outputId": "0c58e56b-9a8f-454e-8192-bb7f3207e049"
      },
      "source": [
        "# print(train_data.isna().any())\n",
        "# print(test_data.isna().any())\n",
        "\n",
        "train_data = train_data.drop(['eval_set','order_id'], axis=1)\n",
        "\n",
        "\n",
        "X = train_data[['add_to_cart_order','order_number','order_dow','order_hour_of_day','days_since_prior_order']]\n",
        "Y = train_data['reordered'].astype(np.int)\n",
        "print(X)\n",
        "print(Y)"
      ],
      "execution_count": 8,
      "outputs": [
        {
          "output_type": "stream",
          "text": [
            "                    add_to_cart_order  ...  days_since_prior_order\n",
            "user_id product_id                     ...                        \n",
            "1       196                         1  ...                    14.0\n",
            "        25133                       2  ...                    14.0\n",
            "        38928                       3  ...                    14.0\n",
            "        26405                       4  ...                    14.0\n",
            "        39657                       5  ...                    14.0\n",
            "...                               ...  ...                     ...\n",
            "206209  40603                       4  ...                    30.0\n",
            "        15655                       5  ...                    30.0\n",
            "        42606                       6  ...                    30.0\n",
            "        37966                       7  ...                    30.0\n",
            "        39216                       8  ...                    30.0\n",
            "\n",
            "[1384617 rows x 5 columns]\n",
            "user_id  product_id\n",
            "1        196           1\n",
            "         25133         1\n",
            "         38928         1\n",
            "         26405         1\n",
            "         39657         1\n",
            "                      ..\n",
            "206209   40603         0\n",
            "         15655         0\n",
            "         42606         0\n",
            "         37966         0\n",
            "         39216         1\n",
            "Name: reordered, Length: 1384617, dtype: int64\n"
          ],
          "name": "stdout"
        }
      ]
    },
    {
      "cell_type": "code",
      "metadata": {
        "id": "-lvnnnHd0pNj",
        "colab": {
          "base_uri": "https://localhost:8080/"
        },
        "outputId": "86dd4f7a-95e4-4a86-da9f-b2b4462b0686"
      },
      "source": [
        "x_train, x_validate, y_train, y_validate = train_test_split(X,Y , test_size = 0.2, random_state=42)\n",
        "print(x_train.shape)\n",
        "print(y_train.shape)\n",
        "print(x_validate.shape)\n",
        "print(y_validate.shape)"
      ],
      "execution_count": 9,
      "outputs": [
        {
          "output_type": "stream",
          "text": [
            "(1107693, 5)\n",
            "(1107693,)\n",
            "(276924, 5)\n",
            "(276924,)\n"
          ],
          "name": "stdout"
        }
      ]
    },
    {
      "cell_type": "code",
      "metadata": {
        "id": "gFeUJgxzOT7Q"
      },
      "source": [
        "test_data = test_data.drop(['eval_set','order_id'], axis=1)\n",
        "x_test = test_data[['add_to_cart_order','order_number','order_dow','order_hour_of_day','days_since_prior_order']]\n",
        "y_test = test_data['reordered'].astype(np.int)"
      ],
      "execution_count": 23,
      "outputs": []
    },
    {
      "cell_type": "code",
      "metadata": {
        "id": "RSYSdB0spWmb",
        "colab": {
          "base_uri": "https://localhost:8080/",
          "height": 1000
        },
        "outputId": "05efda2e-c034-4ebf-8e8e-b85e32790e79"
      },
      "source": [
        "parameters = {'eval_metric':'logloss', \n",
        "              'max_depth':'5', \n",
        "              'colsample_bytree':'0.5',    # 0.4\n",
        "              'subsample':'0.75',\n",
        "              'gpu_id':'0',\n",
        "              'tree_method':'gpu_hist'\n",
        "             }\n",
        "\n",
        "print(x_train.shape)\n",
        "print(y_train.shape)\n",
        "XGB = xgb.XGBClassifier(objective='binary:logistic', parameters=parameters, num_boost_round=10)\n",
        "model = XGB.fit(x_train, y_train)\n",
        "print(model)\n",
        "xgb.plot_importance(model)\n",
        "model.get_xgb_params()\n"
      ],
      "execution_count": 11,
      "outputs": [
        {
          "output_type": "stream",
          "text": [
            "(1107693, 5)\n",
            "(1107693,)\n",
            "XGBClassifier(base_score=0.5, booster='gbtree', colsample_bylevel=1,\n",
            "              colsample_bynode=1, colsample_bytree=1, gamma=0,\n",
            "              learning_rate=0.1, max_delta_step=0, max_depth=3,\n",
            "              min_child_weight=1, missing=None, n_estimators=100, n_jobs=1,\n",
            "              nthread=None, num_boost_round=10, objective='binary:logistic',\n",
            "              parameters={'colsample_bytree': '0.5', 'eval_metric': 'logloss',\n",
            "                          'gpu_id': '0', 'max_depth': '5', 'subsample': '0.75',\n",
            "                          'tree_method': 'gpu_hist'},\n",
            "              random_state=0, reg_alpha=0, reg_lambda=1, scale_pos_weight=1,\n",
            "              seed=None, silent=None, subsample=1, verbosity=1)\n"
          ],
          "name": "stdout"
        },
        {
          "output_type": "execute_result",
          "data": {
            "text/plain": [
              "{'base_score': 0.5,\n",
              " 'booster': 'gbtree',\n",
              " 'colsample_bylevel': 1,\n",
              " 'colsample_bynode': 1,\n",
              " 'colsample_bytree': 1,\n",
              " 'gamma': 0,\n",
              " 'learning_rate': 0.1,\n",
              " 'max_delta_step': 0,\n",
              " 'max_depth': 3,\n",
              " 'min_child_weight': 1,\n",
              " 'missing': None,\n",
              " 'n_estimators': 100,\n",
              " 'nthread': 1,\n",
              " 'num_boost_round': 10,\n",
              " 'objective': 'binary:logistic',\n",
              " 'parameters': {'colsample_bytree': '0.5',\n",
              "  'eval_metric': 'logloss',\n",
              "  'gpu_id': '0',\n",
              "  'max_depth': '5',\n",
              "  'subsample': '0.75',\n",
              "  'tree_method': 'gpu_hist'},\n",
              " 'reg_alpha': 0,\n",
              " 'reg_lambda': 1,\n",
              " 'scale_pos_weight': 1,\n",
              " 'seed': 0,\n",
              " 'subsample': 1,\n",
              " 'verbosity': 1}"
            ]
          },
          "metadata": {
            "tags": []
          },
          "execution_count": 11
        },
        {
          "output_type": "display_data",
          "data": {
            "image/png": "[encoded data removed]",
            "text/plain": [
              "<Figure size 432x288 with 1 Axes>"
            ]
          },
          "metadata": {
            "tags": [],
            "needs_background": "light"
          }
        }
      ]
    },
    {
      "cell_type": "code",
      "metadata": {
        "id": "X9wGWayT5MC_",
        "colab": {
          "base_uri": "https://localhost:8080/"
        },
        "outputId": "bd4cf0e8-7d6a-4693-e420-e9c6b9506c7e"
      },
      "source": [
        "y_pred = model.predict(x_validate)\n",
        "acc = accuracy_score(y_validate, y_pred)\n",
        "fl_score = f1_score(y_validate, y_pred)\n",
        "\n",
        "print('===Validate_set===')\n",
        "print('Acc:',acc)\n",
        "print('F1score:',fl_score)\n",
        "print(y_pred.shape)"
      ],
      "execution_count": 12,
      "outputs": [
        {
          "output_type": "stream",
          "text": [
            "===Validate_set===\n",
            "Acc: 0.661206684866606\n",
            "F1score: 0.7427813175123648\n",
            "(276924,)\n"
          ],
          "name": "stdout"
        }
      ]
    },
    {
      "cell_type": "code",
      "metadata": {
        "colab": {
          "base_uri": "https://localhost:8080/"
        },
        "id": "RXApRAscOLxi",
        "outputId": "54f8a292-e71a-4187-a222-3f77422bc422"
      },
      "source": [
        "y_pred = model.predict(x_test)\n",
        "acc = accuracy_score(y_test, y_pred)\n",
        "fl_score = f1_score(y_test, y_pred)\n",
        "print('===Test_set===')\n",
        "print('Acc:',acc)\n",
        "print('F1score:',fl_score)\n",
        "print(y_pred.shape)"
      ],
      "execution_count": 13,
      "outputs": [
        {
          "output_type": "stream",
          "text": [
            "===Test_set===\n",
            "Acc: 0.6626293545081967\n",
            "F1score: 0.7355440682917721\n",
            "(780800,)\n"
          ],
          "name": "stdout"
        }
      ]
    },
    {
      "cell_type": "code",
      "metadata": {
        "colab": {
          "base_uri": "https://localhost:8080/"
        },
        "id": "OhIYWvr0PpX5",
        "outputId": "039eade4-b61a-4e68-c431-e944372b53b6"
      },
      "source": [
        "# prepare submission's dataframe\n",
        "submission_table = orders_DF.loc[orders_DF['eval_set'] == 'test', ['user_id','order_id']]\n",
        "print(submission_table.head(10))\n",
        "\n",
        "y_pred = pd.DataFrame(y_pred, columns=['reordered'])\n",
        "\n",
        "test_data2 = test_data.drop(['reordered'], axis=1)\n",
        "test_data2 = test_data2.reset_index()\n",
        "test_data2['reordered'] = y_pred\n",
        "print(test_data2.head(10))\n",
        "# test_data2 = test_data2.set_index(['user_id','product_id'])\n",
        "\n",
        "\n",
        "submission_table = submission_table.merge(test_data2, how='left', on='user_id')\n",
        "print(submission_table)\n",
        "submission_table = submission_table[['order_id','product_id','reordered']]\n",
        "print(submission_table)\n",
        "\n",
        "output_result = dict()\n",
        "for row in submission_table.itertuples():\n",
        "  if row.reordered == 1:\n",
        "    try:\n",
        "      output_result[row.order_id] += ' ' + str(row.product_id)\n",
        "    except:\n",
        "      output_result[row.order_id] = str(row.product_id)\n",
        "\n",
        "for order in submission_table.order_id:\n",
        "  if order not in output_result:\n",
        "    output_result[order] = 'None'\n",
        "\n",
        "submission = pd.DataFrame.from_dict(output_result, orient='index')\n",
        "submission.reset_index(inplace=True)\n",
        "submission.columns = ['order_id','products']\n",
        "# print(submission.head(50))\n",
        "submission\n",
        "submission.to_csv('submission.csv',index=False)"
      ],
      "execution_count": 61,
      "outputs": [
        {
          "output_type": "stream",
          "text": [
            "     user_id  order_id\n",
            "38         3   2774568\n",
            "44         4    329954\n",
            "53         6   1528013\n",
            "96        11   1376945\n",
            "102       12   1356845\n",
            "152       15   2161313\n",
            "159       16   1416320\n",
            "217       19   1735923\n",
            "222       20   1980631\n",
            "272       22    139655\n",
            "   user_id  product_id  ...  days_since_prior_order  reordered\n",
            "0        3       18599  ...                    15.0          1\n",
            "1        3       21903  ...                    15.0          1\n",
            "2        3       23650  ...                    15.0          1\n",
            "3        3       24810  ...                    15.0          1\n",
            "4        3       39190  ...                    15.0          1\n",
            "5        3       47766  ...                    15.0          1\n",
            "6        4       21573  ...                     0.0          1\n",
            "7        4       25623  ...                     0.0          1\n",
            "8        4       26576  ...                     0.0          1\n",
            "9        6        8424  ...                    12.0          1\n",
            "\n",
            "[10 rows x 8 columns]\n",
            "        user_id  order_id  ...  days_since_prior_order  reordered\n",
            "0             3   2774568  ...                    15.0          1\n",
            "1             3   2774568  ...                    15.0          1\n",
            "2             3   2774568  ...                    15.0          1\n",
            "3             3   2774568  ...                    15.0          1\n",
            "4             3   2774568  ...                    15.0          1\n",
            "...         ...       ...  ...                     ...        ...\n",
            "780795   206208    803273  ...                     7.0          1\n",
            "780796   206208    803273  ...                     7.0          1\n",
            "780797   206208    803273  ...                     7.0          1\n",
            "780798   206208    803273  ...                     7.0          1\n",
            "780799   206208    803273  ...                     7.0          1\n",
            "\n",
            "[780800 rows x 9 columns]\n",
            "        order_id  product_id  reordered\n",
            "0        2774568       18599          1\n",
            "1        2774568       21903          1\n",
            "2        2774568       23650          1\n",
            "3        2774568       24810          1\n",
            "4        2774568       39190          1\n",
            "...          ...         ...        ...\n",
            "780795    803273       35688          1\n",
            "780796    803273       43961          1\n",
            "780797    803273       44419          1\n",
            "780798    803273       44910          1\n",
            "780799    803273       45007          1\n",
            "\n",
            "[780800 rows x 3 columns]\n"
          ],
          "name": "stdout"
        }
      ]
    }
  ]
}