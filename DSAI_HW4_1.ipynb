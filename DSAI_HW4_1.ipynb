{
  "nbformat": 4,
  "nbformat_minor": 0,
  "metadata": {
    "colab": {
      "name": "DSAI_HW4.ipynb",
      "provenance": [],
      "collapsed_sections": []
    },
    "kernelspec": {
      "name": "python3",
      "display_name": "Python 3"
    },
    "language_info": {
      "name": "python"
    }
  },
  "cells": [
    {
      "cell_type": "code",
      "metadata": {
        "id": "ThtQmcswiCDD",
        "colab": {
          "base_uri": "https://localhost:8080/"
        },
        "outputId": "075232bc-54b1-4d49-9c74-2946d231a172"
      },
      "source": [
        "!nvidia-smi"
      ],
      "execution_count": 5,
      "outputs": [
        {
          "output_type": "stream",
          "text": [
            "NVIDIA-SMI has failed because it couldn't communicate with the NVIDIA driver. Make sure that the latest NVIDIA driver is installed and running.\n",
            "\n"
          ],
          "name": "stdout"
        }
      ]
    },
    {
      "cell_type": "code",
      "metadata": {
        "id": "KCRRTBA8qcFl",
        "colab": {
          "base_uri": "https://localhost:8080/"
        },
        "outputId": "cd14d941-0ec8-4165-851f-dcc771fbaae2"
      },
      "source": [
        "from google.colab import drive\n",
        "drive.mount('/content/drive')"
      ],
      "execution_count": 6,
      "outputs": [
        {
          "output_type": "stream",
          "text": [
            "Drive already mounted at /content/drive; to attempt to forcibly remount, call drive.mount(\"/content/drive\", force_remount=True).\n"
          ],
          "name": "stdout"
        }
      ]
    },
    {
      "cell_type": "markdown",
      "metadata": {
        "id": "iwi9mYTsvAIC"
      },
      "source": [
        "\n",
        "\n",
        "1.   prepare X, and Y\n",
        "2.   seperate it into train and test set\n",
        "3.   setup xgboost parameters\n",
        "4.   fit data\n",
        "5.   predict\n",
        "\n"
      ]
    },
    {
      "cell_type": "code",
      "metadata": {
        "id": "c7DYLZ3EiKOZ"
      },
      "source": [
        "import os\n",
        "import sys\n",
        "import numpy as np\n",
        "import pandas as pd\n",
        "import matplotlib.pyplot as plt\n",
        "import tensorflow as tf\n",
        "from keras.models import Sequential\n",
        "from keras.layers import LSTM, Dense, Dropout, Flatten, Conv2D, MaxPool2D, BatchNormalization, Activation\n",
        "from keras.optimizers import Adam, SGD\n",
        "from sklearn.preprocessing import MinMaxScaler\n",
        "from statistics import mean\n",
        "from keras import backend as K\n",
        "from sklearn.metrics import f1_score, recall_score, precision_score, accuracy_score\n",
        "from keras.callbacks import Callback\n",
        "from sklearn.model_selection import train_test_split\n",
        "from tqdm import tqdm \n",
        "from keras.utils import np_utils\n",
        "import xgboost as xgb\n",
        "import gc\n",
        "np.set_printoptions(threshold=sys.maxsize)"
      ],
      "execution_count": 56,
      "outputs": []
    },
    {
      "cell_type": "code",
      "metadata": {
        "id": "3vt1PrUlXxrZ"
      },
      "source": [
        "main_path = 'drive/MyDrive/Colab Notebooks/dsai_hw4/dataset'\n",
        "\n",
        "orders_DF = pd.read_csv(os.path.join(main_path, 'orders.csv'))  \n",
        "prior_order_DF = pd.read_csv(os.path.join(main_path, 'order_products__prior.csv')) \n",
        "train_order_DF = pd.read_csv(os.path.join(main_path, 'order_products__train.csv')) \n",
        "products_DF = pd.read_csv(os.path.join(main_path, 'products.csv'))"
      ],
      "execution_count": 47,
      "outputs": []
    },
    {
      "cell_type": "code",
      "metadata": {
        "colab": {
          "base_uri": "https://localhost:8080/"
        },
        "id": "nzP7Krj0Cx_Q",
        "outputId": "a9612fa5-a152-4a1a-d7f5-a1ab084de09b"
      },
      "source": [
        "orders_prior = orders_DF.loc[np.where(orders_DF['eval_set'] == 'prior')]\n",
        "orders_train = orders_DF.loc[np.where(orders_DF['eval_set'] == 'train')]\n",
        "orders_test  = orders_DF.loc[np.where(orders_DF['eval_set'] == 'test')] \n",
        "# orders_test = orders_DF.loc[orders_DF.eval_set=='test',('user_id', 'order_id')]\n",
        "print('Prior case:', len(orders_prior))\n",
        "print('Train case:', len(orders_train))\n",
        "print('Test case:', len(orders_test))"
      ],
      "execution_count": 48,
      "outputs": [
        {
          "output_type": "stream",
          "text": [
            "Prior case: 3214874\n",
            "Train case: 131209\n",
            "Test case: 75000\n"
          ],
          "name": "stdout"
        }
      ]
    },
    {
      "cell_type": "code",
      "metadata": {
        "id": "mhF1nAC9uFbN",
        "colab": {
          "base_uri": "https://localhost:8080/"
        },
        "outputId": "99d0c04d-5f39-40ad-8cf0-a772a9dcc9dd"
      },
      "source": [
        "# del products_order\n",
        "# del train_dataframe\n",
        "# del test_order\n",
        "# del test_dataframe\n",
        "\n",
        "# products_order = pd.concat([prior_order_DF, train_order_DF], axis=0)\n",
        "# print(orders_DF[orders_DF['eval_set']=='test'].count())\n",
        "train_dataframe = orders_train.merge(train_order_DF, how='inner', on='order_id')\n",
        "prior_dataframe = orders_prior.merge(prior_order_DF, how='inner', on='order_id')\n",
        "# test_dataframe  = orders_test.merge()\n",
        "\n",
        "print(train_dataframe)\n",
        "print(prior_dataframe)"
      ],
      "execution_count": 49,
      "outputs": [
        {
          "output_type": "stream",
          "text": [
            "         order_id  user_id eval_set  ...  product_id  add_to_cart_order  reordered\n",
            "0         1187899        1    train  ...         196                  1          1\n",
            "1         1187899        1    train  ...       25133                  2          1\n",
            "2         1187899        1    train  ...       38928                  3          1\n",
            "3         1187899        1    train  ...       26405                  4          1\n",
            "4         1187899        1    train  ...       39657                  5          1\n",
            "...           ...      ...      ...  ...         ...                ...        ...\n",
            "1384612    272231   206209    train  ...       40603                  4          0\n",
            "1384613    272231   206209    train  ...       15655                  5          0\n",
            "1384614    272231   206209    train  ...       42606                  6          0\n",
            "1384615    272231   206209    train  ...       37966                  7          0\n",
            "1384616    272231   206209    train  ...       39216                  8          1\n",
            "\n",
            "[1384617 rows x 10 columns]\n",
            "          order_id  user_id eval_set  ...  product_id  add_to_cart_order  reordered\n",
            "0          2539329        1    prior  ...         196                  1          0\n",
            "1          2539329        1    prior  ...       14084                  2          0\n",
            "2          2539329        1    prior  ...       12427                  3          0\n",
            "3          2539329        1    prior  ...       26088                  4          0\n",
            "4          2539329        1    prior  ...       26405                  5          0\n",
            "...            ...      ...      ...  ...         ...                ...        ...\n",
            "32434484   2977660   206209    prior  ...       14197                  5          1\n",
            "32434485   2977660   206209    prior  ...       38730                  6          0\n",
            "32434486   2977660   206209    prior  ...       31477                  7          0\n",
            "32434487   2977660   206209    prior  ...        6567                  8          0\n",
            "32434488   2977660   206209    prior  ...       22920                  9          0\n",
            "\n",
            "[32434489 rows x 10 columns]\n"
          ],
          "name": "stdout"
        }
      ]
    },
    {
      "cell_type": "code",
      "metadata": {
        "colab": {
          "base_uri": "https://localhost:8080/"
        },
        "id": "X_9_UP3kLJo0",
        "outputId": "6e3c819c-9de3-4755-be4b-f55f02fc9560"
      },
      "source": [
        "test_user_id_list = orders_test['user_id']\n",
        "print(len(test_user_id_list))\n",
        "count = 0\n",
        "\n",
        "# if orders_DF[orders_DF['user_id'] in test_user_id_list]:\n",
        "  # count = count + 1\n",
        "\n",
        "# print(count)"
      ],
      "execution_count": 44,
      "outputs": [
        {
          "output_type": "stream",
          "text": [
            "75000\n"
          ],
          "name": "stdout"
        }
      ]
    },
    {
      "cell_type": "code",
      "metadata": {
        "id": "avvCrMEvJF03"
      },
      "source": [
        "train_dataframe['reordered'] = train_dataframe['reordered'].fillna(0)\n",
        "# train_dataframe = train_dataframe.set_index(['user_id','product_id'])\n",
        "# train_dataframe = train_dataframe.drop(['eval_set','order_id'], axis=1)"
      ],
      "execution_count": 50,
      "outputs": []
    },
    {
      "cell_type": "code",
      "metadata": {
        "id": "yqFgxm_G3oWC",
        "colab": {
          "base_uri": "https://localhost:8080/"
        },
        "outputId": "eebc25bc-c954-42ae-d8e7-2e8d20363533"
      },
      "source": [
        "X = train_dataframe[['user_id','product_id','order_id','add_to_cart_order','order_number','order_dow','order_hour_of_day']]\n",
        "Y = train_dataframe['reordered'].astype(np.int)\n",
        "print(X)\n",
        "print(Y)"
      ],
      "execution_count": 53,
      "outputs": [
        {
          "output_type": "stream",
          "text": [
            "         user_id  product_id  ...  order_dow  order_hour_of_day\n",
            "0              1         196  ...          4                  8\n",
            "1              1       25133  ...          4                  8\n",
            "2              1       38928  ...          4                  8\n",
            "3              1       26405  ...          4                  8\n",
            "4              1       39657  ...          4                  8\n",
            "...          ...         ...  ...        ...                ...\n",
            "1384612   206209       40603  ...          6                 14\n",
            "1384613   206209       15655  ...          6                 14\n",
            "1384614   206209       42606  ...          6                 14\n",
            "1384615   206209       37966  ...          6                 14\n",
            "1384616   206209       39216  ...          6                 14\n",
            "\n",
            "[1384617 rows x 7 columns]\n",
            "0          1\n",
            "1          1\n",
            "2          1\n",
            "3          1\n",
            "4          1\n",
            "          ..\n",
            "1384612    0\n",
            "1384613    0\n",
            "1384614    0\n",
            "1384615    0\n",
            "1384616    1\n",
            "Name: reordered, Length: 1384617, dtype: int64\n"
          ],
          "name": "stdout"
        }
      ]
    },
    {
      "cell_type": "code",
      "metadata": {
        "id": "-lvnnnHd0pNj",
        "colab": {
          "base_uri": "https://localhost:8080/"
        },
        "outputId": "aed8af4a-346a-4d5f-f916-0af9f08a41f5"
      },
      "source": [
        "x_train, x_test, y_train, y_test = train_test_split(X,Y , test_size = 0.2, random_state=42)\n",
        "print(x_train.shape)\n",
        "print(y_train.shape)\n",
        "print(x_test.shape)\n",
        "print(y_test.shape)"
      ],
      "execution_count": 54,
      "outputs": [
        {
          "output_type": "stream",
          "text": [
            "(1107693, 7)\n",
            "(1107693,)\n",
            "(276924, 7)\n",
            "(276924,)\n"
          ],
          "name": "stdout"
        }
      ]
    },
    {
      "cell_type": "code",
      "metadata": {
        "id": "RSYSdB0spWmb",
        "colab": {
          "base_uri": "https://localhost:8080/",
          "height": 1000
        },
        "outputId": "a8bfdc90-56df-488a-ce31-8a7feb777bd8"
      },
      "source": [
        "parameters = {'eval_metric':'logloss', \n",
        "              'max_depth':'5', \n",
        "              'colsample_bytree':'0.5',    # 0.4\n",
        "              'subsample':'0.75',\n",
        "              'gpu_id':'0',\n",
        "              'tree_method':'gpu_hist'\n",
        "             }\n",
        "# X_train, y_train = x_train.drop('reordered', axis=1), x_train.reordered.astype(np.int)\n",
        "print(x_train.shape)\n",
        "print(y_train.shape)\n",
        "XGB = xgb.XGBClassifier(objective='binary:logistic', parameters=parameters, num_boost_round=10)\n",
        "model = XGB.fit(x_train, y_train)\n",
        "print(model)\n",
        "xgb.plot_importance(model)\n",
        "model.get_xgb_params()\n"
      ],
      "execution_count": 55,
      "outputs": [
        {
          "output_type": "stream",
          "text": [
            "(1107693, 7)\n",
            "(1107693,)\n",
            "XGBClassifier(base_score=0.5, booster='gbtree', colsample_bylevel=1,\n",
            "              colsample_bynode=1, colsample_bytree=1, gamma=0,\n",
            "              learning_rate=0.1, max_delta_step=0, max_depth=3,\n",
            "              min_child_weight=1, missing=None, n_estimators=100, n_jobs=1,\n",
            "              nthread=None, num_boost_round=10, objective='binary:logistic',\n",
            "              parameters={'colsample_bytree': '0.5', 'eval_metric': 'logloss',\n",
            "                          'gpu_id': '0', 'max_depth': '5', 'subsample': '0.75',\n",
            "                          'tree_method': 'gpu_hist'},\n",
            "              random_state=0, reg_alpha=0, reg_lambda=1, scale_pos_weight=1,\n",
            "              seed=None, silent=None, subsample=1, verbosity=1)\n"
          ],
          "name": "stdout"
        },
        {
          "output_type": "execute_result",
          "data": {
            "text/plain": [
              "{'base_score': 0.5,\n",
              " 'booster': 'gbtree',\n",
              " 'colsample_bylevel': 1,\n",
              " 'colsample_bynode': 1,\n",
              " 'colsample_bytree': 1,\n",
              " 'gamma': 0,\n",
              " 'learning_rate': 0.1,\n",
              " 'max_delta_step': 0,\n",
              " 'max_depth': 3,\n",
              " 'min_child_weight': 1,\n",
              " 'missing': None,\n",
              " 'n_estimators': 100,\n",
              " 'nthread': 1,\n",
              " 'num_boost_round': 10,\n",
              " 'objective': 'binary:logistic',\n",
              " 'parameters': {'colsample_bytree': '0.5',\n",
              "  'eval_metric': 'logloss',\n",
              "  'gpu_id': '0',\n",
              "  'max_depth': '5',\n",
              "  'subsample': '0.75',\n",
              "  'tree_method': 'gpu_hist'},\n",
              " 'reg_alpha': 0,\n",
              " 'reg_lambda': 1,\n",
              " 'scale_pos_weight': 1,\n",
              " 'seed': 0,\n",
              " 'subsample': 1,\n",
              " 'verbosity': 1}"
            ]
          },
          "metadata": {
            "tags": []
          },
          "execution_count": 55
        },
        {
          "output_type": "display_data",
          "data": {
            "image/png": "[encoded data removed]",
            "text/plain": [
              "<Figure size 432x288 with 1 Axes>"
            ]
          },
          "metadata": {
            "tags": [],
            "needs_background": "light"
          }
        }
      ]
    },
    {
      "cell_type": "code",
      "metadata": {
        "id": "X9wGWayT5MC_",
        "colab": {
          "base_uri": "https://localhost:8080/"
        },
        "outputId": "d528df45-c55a-4b6a-a69e-1012049c19f9"
      },
      "source": [
        "y_pred = model.predict(x_test)\n",
        "acc = accuracy_score(y_test, y_pred)\n",
        "fl_score = f1_score(y_test, y_pred)\n",
        "\n",
        "print(acc)\n",
        "print(fl_score)\n",
        "print(y_pred.shape)"
      ],
      "execution_count": 60,
      "outputs": [
        {
          "output_type": "stream",
          "text": [
            "0.6580000288887926\n",
            "0.7420497009445577\n",
            "(276924,)\n"
          ],
          "name": "stdout"
        }
      ]
    }
  ]
}